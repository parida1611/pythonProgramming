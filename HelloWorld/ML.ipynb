{
 "cells": [
  {
   "cell_type": "code",
   "execution_count": 5,
   "id": "775ffaf3-b7fc-4891-9c8b-69b429e707bc",
   "metadata": {},
   "outputs": [
    {
     "data": {
      "text/plain": [
       "1.0"
      ]
     },
     "execution_count": 5,
     "metadata": {},
     "output_type": "execute_result"
    }
   ],
   "source": [
    "# Importing libraries\n",
    "import pandas as pd\n",
    "from sklearn.tree import DecisionTreeClassifier\n",
    "from sklearn.model_selection import train_test_split\n",
    "from sklearn.metrics import accuracy_score\n",
    "import joblib\n",
    "\n",
    "#importing data\n",
    "music_data = pd.read_csv('music.csv')\n",
    "\n",
    "#preparing data\n",
    "input = music_data.drop(columns=['genre'])\n",
    "output = music_data['genre']\n",
    "x_train, x_test, y_train, y_test =  train_test_split(input, output, test_size=0.1)\n",
    "\n",
    "#create model\n",
    "model = DecisionTreeClassifier()\n",
    "\n",
    "#train the model by feeding data\n",
    "model = model.fit(x_train.values,y_train.values)\n",
    "joblib.dump(model,'music-recommender.joblib')\n",
    "\n",
    "#Test the predictions\n",
    "# predictions = model.predict(x_test.values)\n",
    "# accuracy_score(y_test,predictions)"
   ]
  },
  {
   "cell_type": "code",
   "execution_count": null,
   "id": "5e0510a1-e0dc-4e63-b590-c25422ac8f15",
   "metadata": {},
   "outputs": [],
   "source": []
  },
  {
   "cell_type": "code",
   "execution_count": null,
   "id": "57031007-3473-488c-a23f-18cd2fe28496",
   "metadata": {},
   "outputs": [],
   "source": []
  },
  {
   "cell_type": "code",
   "execution_count": null,
   "id": "6ac868d5-59bd-479a-9433-ca4878bc699b",
   "metadata": {},
   "outputs": [],
   "source": []
  }
 ],
 "metadata": {
  "kernelspec": {
   "display_name": "Python 3 (ipykernel)",
   "language": "python",
   "name": "python3"
  },
  "language_info": {
   "codemirror_mode": {
    "name": "ipython",
    "version": 3
   },
   "file_extension": ".py",
   "mimetype": "text/x-python",
   "name": "python",
   "nbconvert_exporter": "python",
   "pygments_lexer": "ipython3",
   "version": "3.12.0"
  }
 },
 "nbformat": 4,
 "nbformat_minor": 5
}
